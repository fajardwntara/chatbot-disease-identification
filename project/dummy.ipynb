{
 "cells": [
  {
   "cell_type": "code",
   "execution_count": 1,
   "id": "94c823ba",
   "metadata": {},
   "outputs": [
    {
     "data": {
      "text/plain": [
       "'1.1.2'"
      ]
     },
     "execution_count": 1,
     "metadata": {},
     "output_type": "execute_result"
    }
   ],
   "source": [
    "import pandas as pd\n",
    "import numpy as np\n",
    "from sklearn.model_selection import train_test_split\n",
    "import sklearn\n",
    "sklearn.__version__"
   ]
  },
  {
   "cell_type": "code",
   "execution_count": 80,
   "id": "49125f3c",
   "metadata": {},
   "outputs": [
    {
     "data": {
      "text/html": [
       "<div>\n",
       "<style scoped>\n",
       "    .dataframe tbody tr th:only-of-type {\n",
       "        vertical-align: middle;\n",
       "    }\n",
       "\n",
       "    .dataframe tbody tr th {\n",
       "        vertical-align: top;\n",
       "    }\n",
       "\n",
       "    .dataframe thead th {\n",
       "        text-align: right;\n",
       "    }\n",
       "</style>\n",
       "<table border=\"1\" class=\"dataframe\">\n",
       "  <thead>\n",
       "    <tr style=\"text-align: right;\">\n",
       "      <th></th>\n",
       "      <th>kategori</th>\n",
       "      <th>gejala</th>\n",
       "    </tr>\n",
       "  </thead>\n",
       "  <tbody>\n",
       "    <tr>\n",
       "      <th>0</th>\n",
       "      <td>infeksi</td>\n",
       "      <td>['baring', 'gigi', 'gusi', 'buruk', 'sebar', '...</td>\n",
       "    </tr>\n",
       "    <tr>\n",
       "      <th>1</th>\n",
       "      <td>infeksi</td>\n",
       "      <td>['demam', 'kanan', 'muntah', 'nyeri', 'perut']</td>\n",
       "    </tr>\n",
       "    <tr>\n",
       "      <th>2</th>\n",
       "      <td>infeksi</td>\n",
       "      <td>['bengkak', 'nanah', 'nyeri', 'payudara']</td>\n",
       "    </tr>\n",
       "    <tr>\n",
       "      <th>3</th>\n",
       "      <td>infeksi</td>\n",
       "      <td>['orok', 'sengau', 'suara', 'tenggorok']</td>\n",
       "    </tr>\n",
       "    <tr>\n",
       "      <th>4</th>\n",
       "      <td>infeksi</td>\n",
       "      <td>['abses', 'infeksi', 'jaring', 'rusa', 'lokasi...</td>\n",
       "    </tr>\n",
       "  </tbody>\n",
       "</table>\n",
       "</div>"
      ],
      "text/plain": [
       "  kategori                                             gejala\n",
       "0  infeksi  ['baring', 'gigi', 'gusi', 'buruk', 'sebar', '...\n",
       "1  infeksi     ['demam', 'kanan', 'muntah', 'nyeri', 'perut']\n",
       "2  infeksi          ['bengkak', 'nanah', 'nyeri', 'payudara']\n",
       "3  infeksi           ['orok', 'sengau', 'suara', 'tenggorok']\n",
       "4  infeksi  ['abses', 'infeksi', 'jaring', 'rusa', 'lokasi..."
      ]
     },
     "execution_count": 80,
     "metadata": {},
     "output_type": "execute_result"
    }
   ],
   "source": [
    "df = pd.read_csv(\"text_preprocessing.csv\", usecols=[\"kategori\", \"gejala_tokens_stemmed\"])\n",
    "df.columns = [\"kategori\", \"gejala\"]\n",
    "\n",
    "df.head()\n",
    "\n",
    "# kolom_X = ['question']\n",
    "# kolom_y = ['label']\n",
    "\n",
    "# X = df[kolom_X]\n",
    "# y = df[kolom_y]\n",
    "\n",
    "# X_train, X_test, y_train, y_test = train_test_split(X,y,test_size=0.15, shuffle=True)"
   ]
  },
  {
   "cell_type": "code",
   "execution_count": 2,
   "id": "5601160e",
   "metadata": {},
   "outputs": [
    {
     "ename": "NameError",
     "evalue": "name 'df' is not defined",
     "output_type": "error",
     "traceback": [
      "\u001b[0;31m---------------------------------------------------------------------------\u001b[0m",
      "\u001b[0;31mNameError\u001b[0m                                 Traceback (most recent call last)",
      "Input \u001b[0;32mIn [2]\u001b[0m, in \u001b[0;36m<cell line: 1>\u001b[0;34m()\u001b[0m\n\u001b[0;32m----> 1\u001b[0m y \u001b[38;5;241m=\u001b[39m \u001b[43mdf\u001b[49m[\u001b[38;5;124m\"\u001b[39m\u001b[38;5;124mkategori\u001b[39m\u001b[38;5;124m\"\u001b[39m]\n\u001b[1;32m      2\u001b[0m X \u001b[38;5;241m=\u001b[39m df[\u001b[38;5;124m\"\u001b[39m\u001b[38;5;124mgejala\u001b[39m\u001b[38;5;124m\"\u001b[39m]\n",
      "\u001b[0;31mNameError\u001b[0m: name 'df' is not defined"
     ]
    }
   ],
   "source": [
    "y = df[\"kategori\"]\n",
    "X = df[\"gejala\"]"
   ]
  },
  {
   "cell_type": "code",
   "execution_count": 103,
   "id": "14108508",
   "metadata": {},
   "outputs": [],
   "source": [
    "X_train, X_test, y_train, y_test = train_test_split(X,y,test_size=0.3, random_state=20)"
   ]
  },
  {
   "cell_type": "code",
   "execution_count": 104,
   "id": "b88c262a",
   "metadata": {},
   "outputs": [
    {
     "data": {
      "text/plain": [
       "324        ['cacar', 'demam', 'kepala', 'kulit', 'ruam']\n",
       "399    ['air', 'bercak', 'buang', 'gatal', 'kelamin',...\n",
       "268      ['hilang', 'kepala', 'sadar', 'mual', 'muntah']\n",
       "380                          ['kulit', 'tebal', 'gelap']\n",
       "416    ['bentuk', 'dada', 'gatal', 'kaki', 'lengan', ...\n",
       "                             ...                        \n",
       "218    ['benjol', 'hilang', 'lipat', 'nyeri', 'paha',...\n",
       "223       ['benjol', 'cair', 'encer', 'darah', 'vagina']\n",
       "271    ['jalan', 'kabur', 'kepala', 'sulit', 'normal'...\n",
       "474    ['batuk', 'bunyi', 'kental', 'lendir', 'terus'...\n",
       "355    ['benjol', 'datar', 'kenyal', 'kulit', 'merah'...\n",
       "Name: gejala, Length: 410, dtype: object"
      ]
     },
     "execution_count": 104,
     "metadata": {},
     "output_type": "execute_result"
    }
   ],
   "source": [
    "X_train"
   ]
  },
  {
   "cell_type": "code",
   "execution_count": 114,
   "id": "1610a069",
   "metadata": {},
   "outputs": [
    {
     "data": {
      "text/plain": [
       "<410x482 sparse matrix of type '<class 'numpy.int64'>'\n",
       "\twith 2431 stored elements in Compressed Sparse Row format>"
      ]
     },
     "execution_count": 114,
     "metadata": {},
     "output_type": "execute_result"
    }
   ],
   "source": [
    "# loading CountVectorizer\n",
    "from sklearn.feature_extraction.text import TfidfVectorizer, CountVectorizer\n",
    "tf_vectorizer = CountVectorizer() # or term frequency\n",
    "X_train_tf = tf_vectorizer.fit_transform(X_train)\n",
    "X_train_tf"
   ]
  },
  {
   "cell_type": "code",
   "execution_count": 106,
   "id": "c4070a4f",
   "metadata": {},
   "outputs": [],
   "source": [
    "X_test_tf = tf_vectorizer.transform(X_test)"
   ]
  },
  {
   "cell_type": "code",
   "execution_count": 107,
   "id": "f2deae6d",
   "metadata": {},
   "outputs": [
    {
     "data": {
      "text/plain": [
       "<410x482 sparse matrix of type '<class 'numpy.int64'>'\n",
       "\twith 2431 stored elements in Compressed Sparse Row format>"
      ]
     },
     "execution_count": 107,
     "metadata": {},
     "output_type": "execute_result"
    }
   ],
   "source": [
    "X_train_tf"
   ]
  },
  {
   "cell_type": "code",
   "execution_count": 111,
   "id": "2deff6ac",
   "metadata": {},
   "outputs": [],
   "source": [
    "from sklearn.naive_bayes import MultinomialNB\n",
    "clf = MultinomialNB()\n",
    "clf.fit(X_train_tf, y_train)\n",
    "y_pred = clf.predict(X_test_tf)"
   ]
  },
  {
   "cell_type": "code",
   "execution_count": 113,
   "id": "8f5072b2",
   "metadata": {},
   "outputs": [
    {
     "data": {
      "text/plain": [
       "0.5738636363636364"
      ]
     },
     "execution_count": 113,
     "metadata": {},
     "output_type": "execute_result"
    }
   ],
   "source": [
    "from sklearn.metrics import classification_report, accuracy_score\n",
    "classification_report(y_test, y_pred)"
   ]
  },
  {
   "cell_type": "code",
   "execution_count": null,
   "id": "feec1b22",
   "metadata": {},
   "outputs": [],
   "source": []
  }
 ],
 "metadata": {
  "kernelspec": {
   "display_name": "Python 3 (ipykernel)",
   "language": "python",
   "name": "python3"
  },
  "language_info": {
   "codemirror_mode": {
    "name": "ipython",
    "version": 3
   },
   "file_extension": ".py",
   "mimetype": "text/x-python",
   "name": "python",
   "nbconvert_exporter": "python",
   "pygments_lexer": "ipython3",
   "version": "3.10.4"
  }
 },
 "nbformat": 4,
 "nbformat_minor": 5
}
